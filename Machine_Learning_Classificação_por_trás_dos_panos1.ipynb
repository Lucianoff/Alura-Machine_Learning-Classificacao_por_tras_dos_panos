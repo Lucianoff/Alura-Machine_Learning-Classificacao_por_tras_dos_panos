{
  "nbformat": 4,
  "nbformat_minor": 0,
  "metadata": {
    "colab": {
      "name": "Machine Learning: Classificação por trás dos panos1.ipynb",
      "provenance": [],
      "authorship_tag": "ABX9TyPs/6pS36H2bwz7ByQX7QZM",
      "include_colab_link": true
    },
    "kernelspec": {
      "name": "python3",
      "display_name": "Python 3"
    },
    "language_info": {
      "name": "python"
    }
  },
  "cells": [
    {
      "cell_type": "markdown",
      "metadata": {
        "id": "view-in-github",
        "colab_type": "text"
      },
      "source": [
        "<a href=\"https://colab.research.google.com/github/Lucianoff/Alura-Machine_Learning-Classificacao_por_tras_dos_panos/blob/main/Machine_Learning_Classifica%C3%A7%C3%A3o_por_tr%C3%A1s_dos_panos1.ipynb\" target=\"_parent\"><img src=\"https://colab.research.google.com/assets/colab-badge.svg\" alt=\"Open In Colab\"/></a>"
      ]
    },
    {
      "cell_type": "code",
      "metadata": {
        "colab": {
          "base_uri": "https://localhost:8080/"
        },
        "id": "FpUnwlPT9itQ",
        "outputId": "98c0ff4d-024a-412b-bb0c-de8d86f01e6f"
      },
      "source": [
        "from sklearn.naive_bayes import MultinomialNB\n",
        "\n",
        "porco1=[0,1,0]\n",
        "porco2=[1,0,0]\n",
        "porco3=[1,1,0]\n",
        "cachorro1=[0,0,1]\n",
        "cachorro2=[1,1,1]\n",
        "cachorro3=[0,1,1]\n",
        "\n",
        "treino_x = [porco1, porco2, porco3, cachorro1, cachorro2, cachorro3]\n",
        "treino_y = [0,0,0,1,1,1]\n",
        "\n",
        "modelo = MultinomialNB()\n",
        "\n",
        "modelo.fit(treino_x, treino_y)\n",
        "\n",
        "misterio1=[1,1,0]\n",
        "misterio2=[0,0,1]\n",
        "misterio3=[1,0,1]\n",
        "misterio4=[0,1,0]\n",
        "misterio5=[1,1,1]\n",
        "misterio6=[0,0,0]\n",
        "\n",
        "teste_x = [misterio1, misterio2, misterio3, misterio4, misterio5, misterio6]\n",
        "teste_y = [1,1,1,0,1,0]\n",
        "\n",
        "resultado = modelo.predict(teste_x)\n",
        "resultado\n"
      ],
      "execution_count": null,
      "outputs": [
        {
          "output_type": "execute_result",
          "data": {
            "text/plain": [
              "array([0, 1, 1, 0, 1, 0])"
            ]
          },
          "metadata": {
            "tags": []
          },
          "execution_count": 17
        }
      ]
    },
    {
      "cell_type": "code",
      "metadata": {
        "colab": {
          "base_uri": "https://localhost:8080/"
        },
        "id": "-N3ED8SbAcyc",
        "outputId": "12e0d1cf-4f85-478a-81a6-0870b80ddfd2"
      },
      "source": [
        "taxa_de_acerto = modelo.score(teste_x, teste_y)*100\n",
        "print(\"Minha taxa de acerto desse modelo é %.2f\" % (taxa_de_acerto))"
      ],
      "execution_count": null,
      "outputs": [
        {
          "output_type": "stream",
          "text": [
            "Minha taxa de acerto desse modelo é 83.33\n"
          ],
          "name": "stdout"
        }
      ]
    },
    {
      "cell_type": "code",
      "metadata": {
        "id": "o0s4VYE2E24c",
        "colab": {
          "base_uri": "https://localhost:8080/",
          "height": 204
        },
        "outputId": "5f313594-7075-4ca7-fbe7-c9c833c30f72"
      },
      "source": [
        "url=('https://raw.githubusercontent.com/alura-cursos/machine-learning-introducao-a-classificacao/master/acesso.csv')\n",
        "\n",
        "import pandas as pd\n",
        "dados = pd.read_csv(url)\n",
        "dados.head()"
      ],
      "execution_count": null,
      "outputs": [
        {
          "output_type": "execute_result",
          "data": {
            "text/html": [
              "<div>\n",
              "<style scoped>\n",
              "    .dataframe tbody tr th:only-of-type {\n",
              "        vertical-align: middle;\n",
              "    }\n",
              "\n",
              "    .dataframe tbody tr th {\n",
              "        vertical-align: top;\n",
              "    }\n",
              "\n",
              "    .dataframe thead th {\n",
              "        text-align: right;\n",
              "    }\n",
              "</style>\n",
              "<table border=\"1\" class=\"dataframe\">\n",
              "  <thead>\n",
              "    <tr style=\"text-align: right;\">\n",
              "      <th></th>\n",
              "      <th>home</th>\n",
              "      <th>como_funciona</th>\n",
              "      <th>contato</th>\n",
              "      <th>comprou</th>\n",
              "    </tr>\n",
              "  </thead>\n",
              "  <tbody>\n",
              "    <tr>\n",
              "      <th>0</th>\n",
              "      <td>1</td>\n",
              "      <td>1</td>\n",
              "      <td>0</td>\n",
              "      <td>0</td>\n",
              "    </tr>\n",
              "    <tr>\n",
              "      <th>1</th>\n",
              "      <td>1</td>\n",
              "      <td>1</td>\n",
              "      <td>0</td>\n",
              "      <td>0</td>\n",
              "    </tr>\n",
              "    <tr>\n",
              "      <th>2</th>\n",
              "      <td>1</td>\n",
              "      <td>1</td>\n",
              "      <td>0</td>\n",
              "      <td>0</td>\n",
              "    </tr>\n",
              "    <tr>\n",
              "      <th>3</th>\n",
              "      <td>1</td>\n",
              "      <td>1</td>\n",
              "      <td>0</td>\n",
              "      <td>0</td>\n",
              "    </tr>\n",
              "    <tr>\n",
              "      <th>4</th>\n",
              "      <td>1</td>\n",
              "      <td>1</td>\n",
              "      <td>0</td>\n",
              "      <td>0</td>\n",
              "    </tr>\n",
              "  </tbody>\n",
              "</table>\n",
              "</div>"
            ],
            "text/plain": [
              "   home  como_funciona  contato  comprou\n",
              "0     1              1        0        0\n",
              "1     1              1        0        0\n",
              "2     1              1        0        0\n",
              "3     1              1        0        0\n",
              "4     1              1        0        0"
            ]
          },
          "metadata": {
            "tags": []
          },
          "execution_count": 34
        }
      ]
    },
    {
      "cell_type": "code",
      "metadata": {
        "id": "uaqcJDFrLn2g"
      },
      "source": [
        "x = dados[['home', 'como_funciona', 'contato']]\n",
        "y = dados[['comprou']]"
      ],
      "execution_count": null,
      "outputs": []
    },
    {
      "cell_type": "code",
      "metadata": {
        "id": "jbM5ws64MSuX"
      },
      "source": [
        ""
      ],
      "execution_count": null,
      "outputs": []
    }
  ]
}