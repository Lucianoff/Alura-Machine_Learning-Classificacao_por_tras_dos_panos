{
  "nbformat": 4,
  "nbformat_minor": 0,
  "metadata": {
    "colab": {
      "name": "Machine Learning: Classificação por trás dos panos1.ipynb",
      "provenance": [],
      "authorship_tag": "ABX9TyPrPg6aTTJ9Jf3aurhwQTKa",
      "include_colab_link": true
    },
    "kernelspec": {
      "name": "python3",
      "display_name": "Python 3"
    },
    "language_info": {
      "name": "python"
    }
  },
  "cells": [
    {
      "cell_type": "markdown",
      "metadata": {
        "id": "view-in-github",
        "colab_type": "text"
      },
      "source": [
        "<a href=\"https://colab.research.google.com/github/Lucianoff/Alura-Machine_Learning-Classificacao_por_tras_dos_panos/blob/main/Machine_Learning_Classifica%C3%A7%C3%A3o_por_tr%C3%A1s_dos_panos1.ipynb\" target=\"_parent\"><img src=\"https://colab.research.google.com/assets/colab-badge.svg\" alt=\"Open In Colab\"/></a>"
      ]
    },
    {
      "cell_type": "code",
      "metadata": {
        "colab": {
          "base_uri": "https://localhost:8080/"
        },
        "id": "FpUnwlPT9itQ",
        "outputId": "98c0ff4d-024a-412b-bb0c-de8d86f01e6f"
      },
      "source": [
        "from sklearn.naive_bayes import MultinomialNB\n",
        "\n",
        "porco1=[0,1,0]\n",
        "porco2=[1,0,0]\n",
        "porco3=[1,1,0]\n",
        "cachorro1=[0,0,1]\n",
        "cachorro2=[1,1,1]\n",
        "cachorro3=[0,1,1]\n",
        "\n",
        "treino_x = [porco1, porco2, porco3, cachorro1, cachorro2, cachorro3]\n",
        "treino_y = [0,0,0,1,1,1]\n",
        "\n",
        "modelo = MultinomialNB()\n",
        "\n",
        "modelo.fit(treino_x, treino_y)\n",
        "\n",
        "misterio1=[1,1,0]\n",
        "misterio2=[0,0,1]\n",
        "misterio3=[1,0,1]\n",
        "misterio4=[0,1,0]\n",
        "misterio5=[1,1,1]\n",
        "misterio6=[0,0,0]\n",
        "\n",
        "teste_x = [misterio1, misterio2, misterio3, misterio4, misterio5, misterio6]\n",
        "teste_y = [1,1,1,0,1,0]\n",
        "\n",
        "resultado = modelo.predict(teste_x)\n",
        "resultado\n"
      ],
      "execution_count": null,
      "outputs": [
        {
          "output_type": "execute_result",
          "data": {
            "text/plain": [
              "array([0, 1, 1, 0, 1, 0])"
            ]
          },
          "metadata": {
            "tags": []
          },
          "execution_count": 17
        }
      ]
    },
    {
      "cell_type": "code",
      "metadata": {
        "colab": {
          "base_uri": "https://localhost:8080/"
        },
        "id": "-N3ED8SbAcyc",
        "outputId": "12e0d1cf-4f85-478a-81a6-0870b80ddfd2"
      },
      "source": [
        "taxa_de_acerto = modelo.score(teste_x, teste_y)*100\n",
        "print(\"Minha taxa de acerto desse modelo é %.2f\" % (taxa_de_acerto))"
      ],
      "execution_count": null,
      "outputs": [
        {
          "output_type": "stream",
          "text": [
            "Minha taxa de acerto desse modelo é 83.33\n"
          ],
          "name": "stdout"
        }
      ]
    },
    {
      "cell_type": "code",
      "metadata": {
        "id": "o0s4VYE2E24c"
      },
      "source": [
        "url=('https://raw.githubusercontent.com/alura-cursos/machine-learning-introducao-a-classificacao/master/acesso.csv')"
      ],
      "execution_count": null,
      "outputs": []
    },
    {
      "cell_type": "code",
      "metadata": {
        "id": "iLEnYORVKFoB"
      },
      "source": [
        ""
      ],
      "execution_count": null,
      "outputs": []
    }
  ]
}